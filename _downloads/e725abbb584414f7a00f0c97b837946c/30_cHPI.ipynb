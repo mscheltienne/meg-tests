{
  "cells": [
    {
      "cell_type": "markdown",
      "metadata": {},
      "source": [
        "\n\n# Correct head movements with cHPI\n\n.. include:: ../../../links.inc\n\n.. important::\n\n    This example requires the ``meg_wiki`` package to download the sample dataset. This\n    package can be installed with ``pip``:\n\n```bash\n$ pip install git+https://github.com/fcbg-platforms/meg-wiki\n```\n`Signal-Space Separation (SSS) and Maxwell filter\n<data-analysis-pc:MaxWell filter>`\\ :footcite:p:`sss_2005,tsss_2006` can be used to\ncompensate for head movements during a recording. To run SSS, you can use either MEGIN's\nsoftware on the `DANA <data-analysis-pc:MEGIN's software>` or\n[MNE-Python](mne stable_)'s implementation.\n\n.. tip::\n\n    The enhanced version available in [MNE-Python](mne stable_) is recommended. See\n    :func:`mne.preprocessing.maxwell_filter`. The fine calibration file and the\n    cross-talk correction are available in the `sample dataset`_ (\n    see :func:`meg_wiki.datasets.sample.data_path`).\n"
      ]
    },
    {
      "cell_type": "code",
      "execution_count": null,
      "metadata": {
        "collapsed": false
      },
      "outputs": [],
      "source": [
        "from pathlib import Path\n\nfrom matplotlib import pyplot as plt\nfrom mne.chpi import (\n    compute_chpi_amplitudes,\n    compute_chpi_locs,\n    compute_head_pos,\n    filter_chpi,\n)\nfrom mne.datasets import fetch_fsaverage\nfrom mne.io import read_raw_fif\nfrom mne.preprocessing import maxwell_filter\nfrom mne.viz import plot_alignment, plot_head_positions, set_3d_view\n\nfrom meg_wiki.datasets import sample"
      ]
    },
    {
      "cell_type": "markdown",
      "metadata": {},
      "source": [
        "## Head Position Indicator (HPI)\n\n`Head Position Indication (HPI) <meg-session:HPI measurement>` is a technique to\nmeasure the head position with respect to the MEG sensors. 5 coils are placed on the\nparticipant head and digitized (see this\n`section about digitization <meg-session:Digitization>`) in the head coordinate\nframe. At the beginning of a recording, an electromagnetic pulse is delivered on the 5\ncoils at 5 unique frequencies. The coil position with respect to the MEG sensors is\nestimated by measuring the magnetic field produced by this pulse on the MEG sensors.\n\nThe initial HPI measurement is used to determine the device to head affine\ntransformation matrix stored in ``raw.info[\"dev_head_t\"]``.\n\n"
      ]
    },
    {
      "cell_type": "code",
      "execution_count": null,
      "metadata": {
        "collapsed": false
      },
      "outputs": [],
      "source": [
        "raw = read_raw_fif(\n    sample.data_path() / \"recordings\" / \"sample-chpi-raw.fif\", preload=True\n)\nraw.info[\"dev_head_t\"]"
      ]
    },
    {
      "cell_type": "markdown",
      "metadata": {},
      "source": [
        "The initial head position can be visualized within the sensor helmet with\n:func:`mne.viz.plot_alignment`.\n\n<div class=\"alert alert-info\"><h4>Note</h4><p>The figure below uses fsaverage MRI from [MNE-Python](mne stable_)'s dataset,\n    which does not correspond to the subject in the ``raw`` recording. In practice,\n    the subject's individual MRI should be used.</p></div>\n\n"
      ]
    },
    {
      "cell_type": "code",
      "execution_count": null,
      "metadata": {
        "collapsed": false
      },
      "outputs": [],
      "source": [
        "subjects_dir = Path(fetch_fsaverage()).parent\nfig = plot_alignment(\n    raw.info,\n    trans=\"fsaverage\",\n    subject=\"fsaverage\",\n    subjects_dir=subjects_dir,\n    surfaces=\"head-dense\",\n    meg=(\"helmet\", \"sensors\"),\n    dig=\"fiducials\",\n    show_axes=True,\n)\nset_3d_view(fig, 35, 70, distance=0.6, focalpoint=(0.0, 0.0, 0.0))"
      ]
    },
    {
      "cell_type": "markdown",
      "metadata": {},
      "source": [
        "## continuous Head Position Indicator (cHPI)\n\nIf the recording is short, if the participant behaves and is focused on the task, one\ncan assume that the head remained still during the recording. In this case, the\ninitial device to head transformation estimated during the HPI measurement can be\nassumed to be constant.\n\ncHPI is a technique to continuously monitor the head position during the recording,\nuseful when the previous assumption does not hold. When cHPI is enabled, the 5 HPI\ncoils are continuously excited at 5 unique frequencies. The magnetic field produced by\nthe coils is measured by the MEG sensors alongside brain activity.\n\n"
      ]
    },
    {
      "cell_type": "code",
      "execution_count": null,
      "metadata": {
        "collapsed": false
      },
      "outputs": [],
      "source": [
        "fig = raw.plot(\n    duration=4,\n    n_channels=10,\n    scalings=dict(grad=4e-10),\n    show_scrollbars=False,\n    show_scalebars=False,\n)\nfig.axes[0].axvline(1.492, color=\"darkgreen\", linestyle=\"--\")\nfig.axes[0].text(\n    1.492 - 0.992, fig.axes[0].get_ylim()[0] * 0.05, \"cHPI OFF\", fontsize=18\n)\nfig.axes[0].text(1.492 + 1.1, fig.axes[0].get_ylim()[0] * 0.05, \"cHPI ON\", fontsize=18)\nplt.show()"
      ]
    },
    {
      "cell_type": "code",
      "execution_count": null,
      "metadata": {
        "collapsed": false
      },
      "outputs": [],
      "source": [
        "raw.compute_psd(fmin=280, fmax=340).plot()\nplt.show()"
      ]
    },
    {
      "cell_type": "markdown",
      "metadata": {},
      "source": [
        "The signal produced by the HPI coils can be used to estimate the position of the 5\nemitting coils at different time points, and thus to track the time-varying head\nposition.\n\n"
      ]
    },
    {
      "cell_type": "markdown",
      "metadata": {},
      "source": [
        "## Estimating the head position\n\nIn [MNE-Python](mne stable_), the head position is estimated through 3 steps:\n\n- Estimate the cHPI amplitudes with :func:`mne.chpi.compute_chpi_amplitudes`\n- Estimate the cHPI positions with :func:`mne.chpi.compute_chpi_locs`\n- Estimate the head position with :func:`mne.chpi.compute_head_pos`\n\n<div class=\"alert alert-info\"><h4>Note</h4><p>The function :func:`mne.chpi.compute_head_pos` returns an array of shape\n    ``(n_pos, 10)`` containing the translations as ``(x, y, z)`` and the rotations as\n    quaternions ``(q1, q2, q3)``. The translations and rotations can be converted to\n    translation and rotation matrixes with :func:`mne.chpi.head_pos_to_trans_rot_t`.</p></div>\n\n"
      ]
    },
    {
      "cell_type": "code",
      "execution_count": null,
      "metadata": {
        "collapsed": false
      },
      "outputs": [],
      "source": [
        "chpi_amplitudes = compute_chpi_amplitudes(raw)\nchpi_locs = compute_chpi_locs(raw.info, chpi_amplitudes)\nhead_pos = compute_head_pos(raw.info, chpi_locs)"
      ]
    },
    {
      "cell_type": "markdown",
      "metadata": {},
      "source": [
        "The estimated head position can be plotted in function of time with\n:func:`mne.viz.plot_head_positions`.\n\n"
      ]
    },
    {
      "cell_type": "code",
      "execution_count": null,
      "metadata": {
        "collapsed": false
      },
      "outputs": [],
      "source": [
        "plot_head_positions(head_pos, mode=\"traces\")\nplot_head_positions(head_pos, mode=\"field\")\nplt.show()"
      ]
    },
    {
      "cell_type": "markdown",
      "metadata": {},
      "source": [
        "## Compensate head movements\n\nNow that the head position at different timepoints, this information can be used to\ncompensate for the head movements during the recording. The function\n:func:`mne.preprocessing.maxwell_filter` uses the returned head positions in the\nargument ``head_pos`` to apply the compensation and estimate the signal at every\nsensor position as if the head was still, i.e., in the position measured by the\ninitial HPI measurement.\n\n.. tip::\n\n    It is important to first remove the cHPI signal from the recording and to mark\n    bad channels.\n\n"
      ]
    },
    {
      "cell_type": "code",
      "execution_count": null,
      "metadata": {
        "collapsed": false
      },
      "outputs": [],
      "source": [
        "raw = filter_chpi(raw)\nraw.info[\"bads\"] = [  # strict selection for this example\n    \"MEG1531\",\n    \"MEG1532\",\n    \"MEG1533\",\n    \"MEG1542\",\n    \"MEG1522\",\n    \"MEG1541\",\n    \"MEG1321\",\n]\ncalibration = sample.data_path() / \"calibration\" / \"sss_cal.dat\"\ncross_talk = sample.data_path() / \"cross-talk\" / \"ct_sparse.fif\"\nraw_sss = maxwell_filter(\n    raw, calibration=calibration, cross_talk=cross_talk, head_pos=head_pos\n)"
      ]
    },
    {
      "cell_type": "markdown",
      "metadata": {},
      "source": [
        "Let's visualize the effect on a triplet of sensors located on the top of the head.\nNote however that this represents the effect of SSS and movemvent compensation\ntogether.\n\n"
      ]
    },
    {
      "cell_type": "code",
      "execution_count": null,
      "metadata": {
        "collapsed": false
      },
      "outputs": [],
      "source": [
        "f, ax = plt.subplots(3, 1, sharex=True, figsize=(10, 5), layout=\"constrained\")\ntimes = raw.times[raw.time_as_index(30)[0] :]\npicks = [\"MEG0711\", \"MEG0712\", \"MEG0713\"]\nfor k, pick in enumerate(picks):\n    data = raw.get_data(picks=pick, tmin=30).squeeze()\n    ax[k].plot(times, data, label=\"Raw\" if k == 0 else None)\n    data = raw_sss.get_data(picks=pick, tmin=30).squeeze()\n    ax[k].plot(times, data, color=\"red\", label=\"SSS\" if k == 0 else None)\n    ax[k].set_title(f\"{'MAG:' if k == 0 else 'GRAD:'} {pick}\")\nplt.show()"
      ]
    },
    {
      "cell_type": "markdown",
      "metadata": {},
      "source": [
        "Magnetometers which are more sensitive to distant fields and thus to environmental\nartifacts are more affected by SSS than gradiometers.\n\n<div class=\"alert alert-info\"><h4>Note</h4><p>Note that on top of movement compensation, SSS can also transform the signal as if\n    it was emitted from a different head position, through the argument\n    ``destination``. This can be useful to compare signal between subjects in sensor\n    space or to bring back a tilted head to a more upright position.</p></div>\n\n"
      ]
    },
    {
      "cell_type": "markdown",
      "metadata": {},
      "source": [
        "## References\n\n.. footbibliography::\n\n"
      ]
    }
  ],
  "metadata": {
    "kernelspec": {
      "display_name": "Python 3",
      "language": "python",
      "name": "python3"
    },
    "language_info": {
      "codemirror_mode": {
        "name": "ipython",
        "version": 3
      },
      "file_extension": ".py",
      "mimetype": "text/x-python",
      "name": "python",
      "nbconvert_exporter": "python",
      "pygments_lexer": "ipython3",
      "version": "3.11.11"
    }
  },
  "nbformat": 4,
  "nbformat_minor": 0
}