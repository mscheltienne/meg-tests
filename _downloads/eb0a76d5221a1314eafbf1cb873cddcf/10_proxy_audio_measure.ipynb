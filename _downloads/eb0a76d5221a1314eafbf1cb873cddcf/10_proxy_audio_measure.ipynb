{
  "cells": [
    {
      "cell_type": "markdown",
      "metadata": {},
      "source": [
        "\n\n# MISC 006: a proxy measure of the audio stimuli\n\n.. include:: ../../../links.inc\n\n.. important::\n\n    This example requires the ``meg_wiki`` package to download the sample dataset. This\n    package can be installed with ``pip``:\n\n```bash\n$ pip install git+https://github.com/fcbg-platforms/meg-wiki\n```\nThe `Crimson 3`_ audio interface has 2 monitoring feedback outputs, ``Phones 1`` is\nconnected with a jack to BNC cable to an analogical input of the MEG acquisition system,\n``MISC 006``. This measure of the auditory stimuli can be a good proxy for the auditory\nwaveform, depending on the waveform frequency content. The MEG signal will sample the\nanalogical channels simultaneously with the MEG channels, at the same sampling\nfrequency, by default 1 kHz. Thus, any sound that can be sampled at 1 kHz will be\navailable in the FIF file.\n\nIf the auditory stimuli can not be sampled at 1 kHz, this measure can still be a good\nproxy to check the waveform, its onset and offset and the delay between the onset and\nthe trigger.\n\n<div class=\"alert alert-danger\"><h4>Warning</h4><p>If the sound can not be sampled at 1 kHz, extra care should be taken to ensure that\n    this proxy measure is representing well-enough the auditory stimuli.</p></div>\n\n## Sentence\n\nLet's start by emulating the result of a 1 kHz downsampling on a 24 kHz wav file\ncontaining a sentence generated with the text-to-speech tool ``Amazon Polly``.\n"
      ]
    },
    {
      "cell_type": "code",
      "execution_count": null,
      "metadata": {
        "collapsed": false
      },
      "outputs": [],
      "source": [
        "import numpy as np\nfrom matplotlib import pyplot as plt\nfrom scipy.io import wavfile\n\nfrom meg_wiki.datasets import sample"
      ]
    },
    {
      "cell_type": "code",
      "execution_count": null,
      "metadata": {
        "collapsed": false
      },
      "outputs": [],
      "source": [
        "fname = sample.data_path() / \"tutorials\" / \"sentence.wav\"\nfs, data = wavfile.read(fname)\ntimes = np.arange(len(data)) / fs\nstep = int(fs / 1000)  # step to downsampling to 1 kHz\n\nf, ax = plt.subplots(1, 1, layout=\"constrained\")\nax.plot(times, data, color=\"teal\", label=\"original\")\nax.plot(times[::step], data[::step], color=\"orange\", label=\"downsampled\")\nax.legend()\nplt.show()"
      ]
    },
    {
      "cell_type": "markdown",
      "metadata": {},
      "source": [
        "In this case, the downsampled signal is a good proxy for the original signal.\nImportantly, the onset is preserved.\n\n"
      ]
    },
    {
      "cell_type": "code",
      "execution_count": null,
      "metadata": {
        "collapsed": false
      },
      "outputs": [],
      "source": [
        "f, ax = plt.subplots(1, 1, layout=\"constrained\")\nax.plot(times, data, color=\"teal\", label=\"original\")\nax.plot(times[::step], data[::step], color=\"orange\", label=\"downsampled\")\nax.legend()\nax.set_xlim(0.05, 0.15)\nplt.show()"
      ]
    },
    {
      "cell_type": "markdown",
      "metadata": {},
      "source": [
        "## Pure tone\n\nLet's now consider a pure tone at a badly chosen 1 kHz frequency, exacerbing a badly\nsampled signal at a sampling frequency of 1 kHz.\n\n"
      ]
    },
    {
      "cell_type": "code",
      "execution_count": null,
      "metadata": {
        "collapsed": false
      },
      "outputs": [],
      "source": [
        "data = np.sin(2 * np.pi * 1000 * times)\nf, ax = plt.subplots(1, 1, layout=\"constrained\")\nax.plot(times, data, color=\"teal\", label=\"original\")\nax.plot(times[::step], data[::step], color=\"orange\", label=\"downsampled\")\nax.legend()\nax.set_xlim(0, 0.01)\nplt.show()"
      ]
    }
  ],
  "metadata": {
    "kernelspec": {
      "display_name": "Python 3",
      "language": "python",
      "name": "python3"
    },
    "language_info": {
      "codemirror_mode": {
        "name": "ipython",
        "version": 3
      },
      "file_extension": ".py",
      "mimetype": "text/x-python",
      "name": "python",
      "nbconvert_exporter": "python",
      "pygments_lexer": "ipython3",
      "version": "3.11.11"
    }
  },
  "nbformat": 4,
  "nbformat_minor": 0
}