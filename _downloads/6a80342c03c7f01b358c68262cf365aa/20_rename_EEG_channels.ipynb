{
  "cells": [
    {
      "cell_type": "markdown",
      "metadata": {},
      "source": [
        "\n\n# Rename EEG channels\n\n.. important::\n\n    This example requires the ``meg_wiki`` package to download the sample dataset. This\n    package can be installed with ``pip``:\n\n```bash\n$ pip install git+https://github.com/fcbg-platforms/meg-wiki\n```\nThe EEG channel are named ``EEG 001``, ``EEG 002``, .. while they actually correspond to\na standard 10/05 naming. The EEG channel layouts are available in\n`this section <devices/electrophysiology:Electroencaphalography (EEG)>`.\n"
      ]
    },
    {
      "cell_type": "code",
      "execution_count": null,
      "metadata": {
        "collapsed": false
      },
      "outputs": [],
      "source": [
        "from matplotlib import pyplot as plt\nfrom mne import set_log_level\nfrom mne.io import read_raw_fif\n\nfrom meg_wiki.datasets import sample\nfrom meg_wiki.eeg import load_mapping_64chs\n\nset_log_level(\"WARNING\")\nfname = sample.data_path() / \"recordings\" / \"meg-eeg-raw.fif\"\nraw = read_raw_fif(fname, preload=False).pick(\"eeg\")\nraw.info"
      ]
    },
    {
      "cell_type": "markdown",
      "metadata": {},
      "source": [
        "The mapping between the channel number and name in the standard 10/05 naming\nconvention can be loaded and applied to the MNE object. The EEG channels can be\nvisualize inn their true digitized location through the\n:class:`~mne.channels.DigMontage` attached.\n\n"
      ]
    },
    {
      "cell_type": "code",
      "execution_count": null,
      "metadata": {
        "collapsed": false
      },
      "outputs": [],
      "source": [
        "f, ax = plt.subplots(1, 2, figsize=(16, 8))\nax[0].set_title(\"Original channel names\")\nax[1].set_title(\"Standard 10/05 channel names\")\n# plot original channel names\nraw.get_montage().plot(axes=ax[0], show=False)\n# rename EEG channels\nmapping = load_mapping_64chs()\nraw.rename_channels(mapping)\n# plot renamed channel names\nraw.get_montage().plot(axes=ax[1], show=False)\nplt.show()"
      ]
    }
  ],
  "metadata": {
    "kernelspec": {
      "display_name": "Python 3",
      "language": "python",
      "name": "python3"
    },
    "language_info": {
      "codemirror_mode": {
        "name": "ipython",
        "version": 3
      },
      "file_extension": ".py",
      "mimetype": "text/x-python",
      "name": "python",
      "nbconvert_exporter": "python",
      "pygments_lexer": "ipython3",
      "version": "3.11.11"
    }
  },
  "nbformat": 4,
  "nbformat_minor": 0
}