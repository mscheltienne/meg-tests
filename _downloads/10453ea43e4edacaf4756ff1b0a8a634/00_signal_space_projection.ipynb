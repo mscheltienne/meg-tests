{
  "cells": [
    {
      "cell_type": "markdown",
      "metadata": {},
      "source": [
        "\n\n# Create Signal Space Projectors\n\n.. include:: ../../../links.inc\n\n.. important::\n\n    This example requires the ``meg_wiki`` package to download the sample dataset. This\n    package can be installed with ``pip``:\n\n```bash\n$ pip install git+https://github.com/fcbg-platforms/meg-wiki\n```\n## Background on projection\n\nSignal-Space Projection (SSP)\\ :footcite:p:`ssp_1997` is a way of estimating a\nprojection matrix to remove noise from a recording by comparing measurements with and\nwithout the signal of interest. An empty-room recording is typically used to estimate\nthe direction(s) of environmental noise in sensor space. Once the noise vector(s) are\nknown, you can create an orthogonal hyperplane and construct a projection matrix to\nproject your recording onto that hyperplane. It should be clear that SSP reduces the\ndimensionality of your data and thus sensors will not retain linear independency.\n\nAdditional information on projections and on Signal-Space Projection (SSP) can be found\nin `MNE's background on projectors and projections`_.\n\nMNE's Python geometric example projecting from 3-dimensional space to the (x, y) plane:\n"
      ]
    },
    {
      "cell_type": "code",
      "execution_count": null,
      "metadata": {
        "collapsed": false
      },
      "outputs": [],
      "source": [
        "import numpy as np\nfrom matplotlib import pyplot as plt\n\nax = plt.axes(projection=\"3d\")\nax.view_init(azim=-105, elev=20)\nax.set(xlabel=\"x\", ylabel=\"y\", zlabel=\"z\", xlim=(-1, 5), ylim=(-1, 5), zlim=(0, 5))\n\n# plot the vector (3, 2, 5)\norigin = np.zeros((3, 1))\npoint = np.array([[3, 2, 5]]).T\nvector = np.hstack([origin, point])\nax.plot(*vector, color=\"k\")\nax.plot(*point, color=\"k\", marker=\"o\")\n\n# project the vector onto the x,y plane and plot it\nxy_projection_matrix = np.array([[1, 0, 0], [0, 1, 0], [0, 0, 0]])\nprojected_point = xy_projection_matrix @ point\nprojected_vector = xy_projection_matrix @ vector\nax.plot(*projected_vector, color=\"C0\")\nax.plot(*projected_point, color=\"C0\", marker=\"o\")\n\n# add dashed arrow showing projection\narrow_coords = np.concatenate([point, projected_point - point]).flatten()\nax.quiver3D(\n    *arrow_coords,\n    length=0.96,\n    arrow_length_ratio=0.1,\n    color=\"C1\",\n    linewidth=1,\n    linestyle=\"dashed\",\n)\nplt.show()"
      ]
    },
    {
      "cell_type": "markdown",
      "metadata": {},
      "source": [
        "## Default projectors\n\nThe default set of projectors is available [on our GitHub](sample dataset ssp_).\nThose projectors were obtained by combining projectors from the wideband PCA and from\nthe narrowband PCA (bandpass filter between 15 and 18 Hz).\nThe narrowband PCA improves the correction of the 16.7 Hz artifact, typical from a 15\nkV AC railway electrification system.\n\nLet's have a look at the projectors in 68\u00b0 position when IAS is disabled.\n\n"
      ]
    },
    {
      "cell_type": "code",
      "execution_count": null,
      "metadata": {
        "collapsed": false
      },
      "outputs": [],
      "source": [
        "from mne import read_proj\n\nfrom meg_wiki.datasets import sample\n\nprojs = read_proj(sample.data_path() / \"ssp\" / \"200123\" / \"ssp_68_200123_proj.fif\")"
      ]
    },
    {
      "cell_type": "markdown",
      "metadata": {},
      "source": [
        "To visualize the projector as topographic maps, we need information about the sensors\nlocation and orientation. Those information are stored in every raw recording.\n\n"
      ]
    },
    {
      "cell_type": "code",
      "execution_count": null,
      "metadata": {
        "collapsed": false
      },
      "outputs": [],
      "source": [
        "from mne.io import read_info\n\ninfo = read_info(\n    sample.data_path() / \"meas_info\" / \"measurement-info.fif\", verbose=False\n)\ninfo"
      ]
    },
    {
      "cell_type": "code",
      "execution_count": null,
      "metadata": {
        "collapsed": false
      },
      "outputs": [],
      "source": [
        "from matplotlib import pyplot as plt\n\nf, ax = plt.subplots(2, 3, figsize=(6, 6))\nfor k, proj in enumerate(projs[0:6]):\n    proj.plot_topomap(info, axes=ax[k // 3, k % 3])\n    ax[k // 3, k % 3].set_title(f\"PCA-v{k+1}\")\nplt.suptitle(\"Magnetometers - Wideband PCA\")\n\nf, ax = plt.subplots(1, 3, figsize=(6, 6))\nfor k, proj in enumerate(projs[6:9]):\n    proj.plot_topomap(info, axes=ax[k])\n    ax[k].set_title(f\"PCA-v{k+1}\")\nplt.suptitle(\"Magnetometers - Narrowband PCA\")\nplt.show()"
      ]
    },
    {
      "cell_type": "code",
      "execution_count": null,
      "metadata": {
        "collapsed": false
      },
      "outputs": [],
      "source": [
        "from matplotlib import pyplot as plt\n\nf, ax = plt.subplots(1, 3, figsize=(6, 6))\nfor k, proj in enumerate(projs[9:12]):\n    proj.plot_topomap(info, axes=ax[k])\n    ax[k].set_title(f\"PCA-v{k+1}\")\nplt.suptitle(\"Gradiometers - Wideband PCA\")\n\nf, ax = plt.subplots(1, 2, figsize=(6, 6))\nfor k, proj in enumerate(projs[12:14]):\n    proj.plot_topomap(info, axes=ax[k])\n    ax[k].set_title(f\"PCA-v{k+1}\")\nplt.suptitle(\"Gradiometers - Narrowband PCA\")\nplt.show()"
      ]
    },
    {
      "cell_type": "markdown",
      "metadata": {},
      "source": [
        "## Empty room recording\n\nProjectors are determined from an empty-room recording. They are specific to a gantry\nposition (up-right 68\u00b0, up-right 60\u00b0, supine 0\u00b0) and to an\n`meg-settings:Internal Active Shielding (IAS)` state (``ON`` or ``OFF``). The\nempty-room recording loaded below was measured with the gantry in the 68\u00b0 position and\nwith IAS disabled.\n\n"
      ]
    },
    {
      "cell_type": "code",
      "execution_count": null,
      "metadata": {
        "collapsed": false
      },
      "outputs": [],
      "source": [
        "from mne.io import read_raw_fif\n\nraw = read_raw_fif(\n    sample.data_path() / \"empty-room\" / \"empty-room-raw.fif\", verbose=False\n)\nraw.del_proj(\"all\")  # remove the default projectors\nraw.info[\"bads\"] = [\"MEG1343\"]  # bad channel with flux jumps"
      ]
    },
    {
      "cell_type": "markdown",
      "metadata": {},
      "source": [
        "### Noise level\n\nThe power spectral density can be used to visualize the noise level. See\n:footcite:t:`msr-noise_2013` and this `MNE-Python example`_ for additional\ninformation.\n\n"
      ]
    },
    {
      "cell_type": "code",
      "execution_count": null,
      "metadata": {
        "collapsed": false
      },
      "outputs": [],
      "source": [
        "raw.compute_psd(verbose=False).plot(\n    average=True,\n    spatial_colors=False,\n    dB=False,\n    xscale=\"log\",\n    picks=\"data\",\n    exclude=\"bads\",\n)\nplt.show()"
      ]
    },
    {
      "cell_type": "markdown",
      "metadata": {},
      "source": [
        "## References\n\n.. footbibliography::\n\n\n"
      ]
    }
  ],
  "metadata": {
    "kernelspec": {
      "display_name": "Python 3",
      "language": "python",
      "name": "python3"
    },
    "language_info": {
      "codemirror_mode": {
        "name": "ipython",
        "version": 3
      },
      "file_extension": ".py",
      "mimetype": "text/x-python",
      "name": "python",
      "nbconvert_exporter": "python",
      "pygments_lexer": "ipython3",
      "version": "3.11.11"
    }
  },
  "nbformat": 4,
  "nbformat_minor": 0
}